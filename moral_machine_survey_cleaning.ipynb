{
 "cells": [
  {
   "cell_type": "code",
   "execution_count": 1,
   "metadata": {},
   "outputs": [],
   "source": [
    "import pandas as pd\n",
    "import seaborn as sns\n",
    "import matplotlib.pyplot as plt\n"
   ]
  },
  {
   "cell_type": "code",
   "execution_count": 2,
   "metadata": {},
   "outputs": [],
   "source": [
    "# set max cols and rows\n",
    "pd.set_option('display.max_columns', 500)\n",
    "pd.set_option('display.max_rows', 500)"
   ]
  },
  {
   "cell_type": "code",
   "execution_count": 3,
   "metadata": {},
   "outputs": [
    {
     "name": "stderr",
     "output_type": "stream",
     "text": [
      "/var/folders/kj/jqr6r99s1p945h2yplyzrglr0000gn/T/ipykernel_76132/3863514343.py:1: DtypeWarning: Columns (21) have mixed types. Specify dtype option on import or set low_memory=False.\n",
      "  survey = pd.read_csv('Moral Machine Data/SharedResponsesSurvey.csv')\n"
     ]
    }
   ],
   "source": [
    "survey = pd.read_csv('Moral Machine Data/SharedResponsesSurvey.csv')"
   ]
  },
  {
   "cell_type": "code",
   "execution_count": 4,
   "metadata": {},
   "outputs": [
    {
     "data": {
      "text/html": [
       "<div>\n",
       "<style scoped>\n",
       "    .dataframe tbody tr th:only-of-type {\n",
       "        vertical-align: middle;\n",
       "    }\n",
       "\n",
       "    .dataframe tbody tr th {\n",
       "        vertical-align: top;\n",
       "    }\n",
       "\n",
       "    .dataframe thead th {\n",
       "        text-align: right;\n",
       "    }\n",
       "</style>\n",
       "<table border=\"1\" class=\"dataframe\">\n",
       "  <thead>\n",
       "    <tr style=\"text-align: right;\">\n",
       "      <th></th>\n",
       "      <th>ResponseID</th>\n",
       "      <th>ExtendedSessionID</th>\n",
       "      <th>UserID</th>\n",
       "      <th>ScenarioOrder</th>\n",
       "      <th>Intervention</th>\n",
       "      <th>PedPed</th>\n",
       "      <th>Barrier</th>\n",
       "      <th>CrossingSignal</th>\n",
       "      <th>AttributeLevel</th>\n",
       "      <th>ScenarioTypeStrict</th>\n",
       "      <th>ScenarioType</th>\n",
       "      <th>DefaultChoice</th>\n",
       "      <th>NonDefaultChoice</th>\n",
       "      <th>DefaultChoiceIsOmission</th>\n",
       "      <th>NumberOfCharacters</th>\n",
       "      <th>DiffNumberOFCharacters</th>\n",
       "      <th>Saved</th>\n",
       "      <th>Template</th>\n",
       "      <th>DescriptionShown</th>\n",
       "      <th>LeftHand</th>\n",
       "      <th>UserCountry3</th>\n",
       "      <th>Review_age</th>\n",
       "      <th>Review_education</th>\n",
       "      <th>Review_gender</th>\n",
       "      <th>Review_income</th>\n",
       "      <th>Review_political</th>\n",
       "      <th>Review_religious</th>\n",
       "    </tr>\n",
       "  </thead>\n",
       "  <tbody>\n",
       "    <tr>\n",
       "      <th>0</th>\n",
       "      <td>3ubu5Minm7ygqK3oa</td>\n",
       "      <td>-2147481563_6968366610050747.0</td>\n",
       "      <td>6.968367e+15</td>\n",
       "      <td>13</td>\n",
       "      <td>0</td>\n",
       "      <td>0</td>\n",
       "      <td>0</td>\n",
       "      <td>0</td>\n",
       "      <td>Female</td>\n",
       "      <td>Gender</td>\n",
       "      <td>Gender</td>\n",
       "      <td>Male</td>\n",
       "      <td>Female</td>\n",
       "      <td>0.0</td>\n",
       "      <td>2</td>\n",
       "      <td>0</td>\n",
       "      <td>1</td>\n",
       "      <td>Desktop</td>\n",
       "      <td>0.0</td>\n",
       "      <td>0.0</td>\n",
       "      <td>RUS</td>\n",
       "      <td>32.0</td>\n",
       "      <td>bachelor</td>\n",
       "      <td>male</td>\n",
       "      <td>35000</td>\n",
       "      <td>0.5</td>\n",
       "      <td>0.61</td>\n",
       "    </tr>\n",
       "    <tr>\n",
       "      <th>1</th>\n",
       "      <td>FKd9Fje2tWt2sHi6v</td>\n",
       "      <td>-2147481563_6968366610050747.0</td>\n",
       "      <td>6.968367e+15</td>\n",
       "      <td>8</td>\n",
       "      <td>0</td>\n",
       "      <td>1</td>\n",
       "      <td>0</td>\n",
       "      <td>0</td>\n",
       "      <td>Fat</td>\n",
       "      <td>Fitness</td>\n",
       "      <td>Fitness</td>\n",
       "      <td>Fit</td>\n",
       "      <td>Fat</td>\n",
       "      <td>0.0</td>\n",
       "      <td>2</td>\n",
       "      <td>0</td>\n",
       "      <td>0</td>\n",
       "      <td>Desktop</td>\n",
       "      <td>0.0</td>\n",
       "      <td>0.0</td>\n",
       "      <td>RUS</td>\n",
       "      <td>32.0</td>\n",
       "      <td>bachelor</td>\n",
       "      <td>male</td>\n",
       "      <td>35000</td>\n",
       "      <td>0.5</td>\n",
       "      <td>0.61</td>\n",
       "    </tr>\n",
       "    <tr>\n",
       "      <th>2</th>\n",
       "      <td>J6WRHLj8exr4bNwTm</td>\n",
       "      <td>-2147481563_6968366610050747.0</td>\n",
       "      <td>6.968367e+15</td>\n",
       "      <td>2</td>\n",
       "      <td>0</td>\n",
       "      <td>0</td>\n",
       "      <td>0</td>\n",
       "      <td>2</td>\n",
       "      <td>Young</td>\n",
       "      <td>Age</td>\n",
       "      <td>Age</td>\n",
       "      <td>Young</td>\n",
       "      <td>Old</td>\n",
       "      <td>1.0</td>\n",
       "      <td>2</td>\n",
       "      <td>0</td>\n",
       "      <td>0</td>\n",
       "      <td>Desktop</td>\n",
       "      <td>0.0</td>\n",
       "      <td>1.0</td>\n",
       "      <td>RUS</td>\n",
       "      <td>32.0</td>\n",
       "      <td>bachelor</td>\n",
       "      <td>male</td>\n",
       "      <td>35000</td>\n",
       "      <td>0.5</td>\n",
       "      <td>0.61</td>\n",
       "    </tr>\n",
       "    <tr>\n",
       "      <th>3</th>\n",
       "      <td>KcYXwqS3rTrbqdTY2</td>\n",
       "      <td>-2147481563_6968366610050747.0</td>\n",
       "      <td>6.968367e+15</td>\n",
       "      <td>1</td>\n",
       "      <td>0</td>\n",
       "      <td>1</td>\n",
       "      <td>0</td>\n",
       "      <td>2</td>\n",
       "      <td>Pets</td>\n",
       "      <td>Species</td>\n",
       "      <td>Species</td>\n",
       "      <td>Hoomans</td>\n",
       "      <td>Pets</td>\n",
       "      <td>0.0</td>\n",
       "      <td>3</td>\n",
       "      <td>0</td>\n",
       "      <td>0</td>\n",
       "      <td>Desktop</td>\n",
       "      <td>0.0</td>\n",
       "      <td>1.0</td>\n",
       "      <td>RUS</td>\n",
       "      <td>32.0</td>\n",
       "      <td>bachelor</td>\n",
       "      <td>male</td>\n",
       "      <td>35000</td>\n",
       "      <td>0.5</td>\n",
       "      <td>0.61</td>\n",
       "    </tr>\n",
       "    <tr>\n",
       "      <th>4</th>\n",
       "      <td>ZQsAWst58jK9HcKvx</td>\n",
       "      <td>-2147481563_6968366610050747.0</td>\n",
       "      <td>6.968367e+15</td>\n",
       "      <td>5</td>\n",
       "      <td>0</td>\n",
       "      <td>1</td>\n",
       "      <td>0</td>\n",
       "      <td>0</td>\n",
       "      <td>Fit</td>\n",
       "      <td>Fitness</td>\n",
       "      <td>Fitness</td>\n",
       "      <td>Fit</td>\n",
       "      <td>Fat</td>\n",
       "      <td>1.0</td>\n",
       "      <td>2</td>\n",
       "      <td>0</td>\n",
       "      <td>0</td>\n",
       "      <td>Desktop</td>\n",
       "      <td>0.0</td>\n",
       "      <td>1.0</td>\n",
       "      <td>RUS</td>\n",
       "      <td>32.0</td>\n",
       "      <td>bachelor</td>\n",
       "      <td>male</td>\n",
       "      <td>35000</td>\n",
       "      <td>0.5</td>\n",
       "      <td>0.61</td>\n",
       "    </tr>\n",
       "  </tbody>\n",
       "</table>\n",
       "</div>"
      ],
      "text/plain": [
       "          ResponseID               ExtendedSessionID        UserID  \\\n",
       "0  3ubu5Minm7ygqK3oa  -2147481563_6968366610050747.0  6.968367e+15   \n",
       "1  FKd9Fje2tWt2sHi6v  -2147481563_6968366610050747.0  6.968367e+15   \n",
       "2  J6WRHLj8exr4bNwTm  -2147481563_6968366610050747.0  6.968367e+15   \n",
       "3  KcYXwqS3rTrbqdTY2  -2147481563_6968366610050747.0  6.968367e+15   \n",
       "4  ZQsAWst58jK9HcKvx  -2147481563_6968366610050747.0  6.968367e+15   \n",
       "\n",
       "   ScenarioOrder  Intervention  PedPed  Barrier  CrossingSignal  \\\n",
       "0             13             0       0        0               0   \n",
       "1              8             0       1        0               0   \n",
       "2              2             0       0        0               2   \n",
       "3              1             0       1        0               2   \n",
       "4              5             0       1        0               0   \n",
       "\n",
       "  AttributeLevel ScenarioTypeStrict ScenarioType DefaultChoice  \\\n",
       "0         Female             Gender       Gender          Male   \n",
       "1            Fat            Fitness      Fitness           Fit   \n",
       "2          Young                Age          Age         Young   \n",
       "3           Pets            Species      Species       Hoomans   \n",
       "4            Fit            Fitness      Fitness           Fit   \n",
       "\n",
       "  NonDefaultChoice  DefaultChoiceIsOmission  NumberOfCharacters  \\\n",
       "0           Female                      0.0                   2   \n",
       "1              Fat                      0.0                   2   \n",
       "2              Old                      1.0                   2   \n",
       "3             Pets                      0.0                   3   \n",
       "4              Fat                      1.0                   2   \n",
       "\n",
       "   DiffNumberOFCharacters  Saved Template  DescriptionShown  LeftHand  \\\n",
       "0                       0      1  Desktop               0.0       0.0   \n",
       "1                       0      0  Desktop               0.0       0.0   \n",
       "2                       0      0  Desktop               0.0       1.0   \n",
       "3                       0      0  Desktop               0.0       1.0   \n",
       "4                       0      0  Desktop               0.0       1.0   \n",
       "\n",
       "  UserCountry3 Review_age Review_education Review_gender Review_income  \\\n",
       "0          RUS       32.0         bachelor          male         35000   \n",
       "1          RUS       32.0         bachelor          male         35000   \n",
       "2          RUS       32.0         bachelor          male         35000   \n",
       "3          RUS       32.0         bachelor          male         35000   \n",
       "4          RUS       32.0         bachelor          male         35000   \n",
       "\n",
       "   Review_political  Review_religious  \n",
       "0               0.5              0.61  \n",
       "1               0.5              0.61  \n",
       "2               0.5              0.61  \n",
       "3               0.5              0.61  \n",
       "4               0.5              0.61  "
      ]
     },
     "execution_count": 4,
     "metadata": {},
     "output_type": "execute_result"
    }
   ],
   "source": [
    "survey.head()"
   ]
  },
  {
   "cell_type": "code",
   "execution_count": 5,
   "metadata": {},
   "outputs": [
    {
     "data": {
      "text/html": [
       "<div>\n",
       "<style scoped>\n",
       "    .dataframe tbody tr th:only-of-type {\n",
       "        vertical-align: middle;\n",
       "    }\n",
       "\n",
       "    .dataframe tbody tr th {\n",
       "        vertical-align: top;\n",
       "    }\n",
       "\n",
       "    .dataframe thead th {\n",
       "        text-align: right;\n",
       "    }\n",
       "</style>\n",
       "<table border=\"1\" class=\"dataframe\">\n",
       "  <thead>\n",
       "    <tr style=\"text-align: right;\">\n",
       "      <th></th>\n",
       "      <th>ResponseID</th>\n",
       "      <th>ExtendedSessionID</th>\n",
       "      <th>UserID</th>\n",
       "      <th>ScenarioOrder</th>\n",
       "      <th>Intervention</th>\n",
       "      <th>PedPed</th>\n",
       "      <th>Barrier</th>\n",
       "      <th>CrossingSignal</th>\n",
       "      <th>AttributeLevel</th>\n",
       "      <th>ScenarioTypeStrict</th>\n",
       "      <th>ScenarioType</th>\n",
       "      <th>DefaultChoice</th>\n",
       "      <th>NonDefaultChoice</th>\n",
       "      <th>DefaultChoiceIsOmission</th>\n",
       "      <th>NumberOfCharacters</th>\n",
       "      <th>DiffNumberOFCharacters</th>\n",
       "      <th>Saved</th>\n",
       "      <th>Template</th>\n",
       "      <th>DescriptionShown</th>\n",
       "      <th>LeftHand</th>\n",
       "      <th>UserCountry3</th>\n",
       "      <th>Review_age</th>\n",
       "      <th>Review_education</th>\n",
       "      <th>Review_gender</th>\n",
       "      <th>Review_income</th>\n",
       "      <th>Review_political</th>\n",
       "      <th>Review_religious</th>\n",
       "    </tr>\n",
       "  </thead>\n",
       "  <tbody>\n",
       "    <tr>\n",
       "      <th>0</th>\n",
       "      <td>3ubu5Minm7ygqK3oa</td>\n",
       "      <td>-2147481563_6968366610050747.0</td>\n",
       "      <td>6.968367e+15</td>\n",
       "      <td>13</td>\n",
       "      <td>0</td>\n",
       "      <td>0</td>\n",
       "      <td>0</td>\n",
       "      <td>0</td>\n",
       "      <td>Female</td>\n",
       "      <td>Gender</td>\n",
       "      <td>Gender</td>\n",
       "      <td>Male</td>\n",
       "      <td>Female</td>\n",
       "      <td>0.0</td>\n",
       "      <td>2</td>\n",
       "      <td>0</td>\n",
       "      <td>1</td>\n",
       "      <td>Desktop</td>\n",
       "      <td>0.0</td>\n",
       "      <td>0.0</td>\n",
       "      <td>RUS</td>\n",
       "      <td>32.0</td>\n",
       "      <td>bachelor</td>\n",
       "      <td>male</td>\n",
       "      <td>35000</td>\n",
       "      <td>0.5</td>\n",
       "      <td>0.61</td>\n",
       "    </tr>\n",
       "    <tr>\n",
       "      <th>1</th>\n",
       "      <td>FKd9Fje2tWt2sHi6v</td>\n",
       "      <td>-2147481563_6968366610050747.0</td>\n",
       "      <td>6.968367e+15</td>\n",
       "      <td>8</td>\n",
       "      <td>0</td>\n",
       "      <td>1</td>\n",
       "      <td>0</td>\n",
       "      <td>0</td>\n",
       "      <td>Fat</td>\n",
       "      <td>Fitness</td>\n",
       "      <td>Fitness</td>\n",
       "      <td>Fit</td>\n",
       "      <td>Fat</td>\n",
       "      <td>0.0</td>\n",
       "      <td>2</td>\n",
       "      <td>0</td>\n",
       "      <td>0</td>\n",
       "      <td>Desktop</td>\n",
       "      <td>0.0</td>\n",
       "      <td>0.0</td>\n",
       "      <td>RUS</td>\n",
       "      <td>32.0</td>\n",
       "      <td>bachelor</td>\n",
       "      <td>male</td>\n",
       "      <td>35000</td>\n",
       "      <td>0.5</td>\n",
       "      <td>0.61</td>\n",
       "    </tr>\n",
       "    <tr>\n",
       "      <th>2</th>\n",
       "      <td>J6WRHLj8exr4bNwTm</td>\n",
       "      <td>-2147481563_6968366610050747.0</td>\n",
       "      <td>6.968367e+15</td>\n",
       "      <td>2</td>\n",
       "      <td>0</td>\n",
       "      <td>0</td>\n",
       "      <td>0</td>\n",
       "      <td>2</td>\n",
       "      <td>Young</td>\n",
       "      <td>Age</td>\n",
       "      <td>Age</td>\n",
       "      <td>Young</td>\n",
       "      <td>Old</td>\n",
       "      <td>1.0</td>\n",
       "      <td>2</td>\n",
       "      <td>0</td>\n",
       "      <td>0</td>\n",
       "      <td>Desktop</td>\n",
       "      <td>0.0</td>\n",
       "      <td>1.0</td>\n",
       "      <td>RUS</td>\n",
       "      <td>32.0</td>\n",
       "      <td>bachelor</td>\n",
       "      <td>male</td>\n",
       "      <td>35000</td>\n",
       "      <td>0.5</td>\n",
       "      <td>0.61</td>\n",
       "    </tr>\n",
       "    <tr>\n",
       "      <th>3</th>\n",
       "      <td>KcYXwqS3rTrbqdTY2</td>\n",
       "      <td>-2147481563_6968366610050747.0</td>\n",
       "      <td>6.968367e+15</td>\n",
       "      <td>1</td>\n",
       "      <td>0</td>\n",
       "      <td>1</td>\n",
       "      <td>0</td>\n",
       "      <td>2</td>\n",
       "      <td>Pets</td>\n",
       "      <td>Species</td>\n",
       "      <td>Species</td>\n",
       "      <td>Hoomans</td>\n",
       "      <td>Pets</td>\n",
       "      <td>0.0</td>\n",
       "      <td>3</td>\n",
       "      <td>0</td>\n",
       "      <td>0</td>\n",
       "      <td>Desktop</td>\n",
       "      <td>0.0</td>\n",
       "      <td>1.0</td>\n",
       "      <td>RUS</td>\n",
       "      <td>32.0</td>\n",
       "      <td>bachelor</td>\n",
       "      <td>male</td>\n",
       "      <td>35000</td>\n",
       "      <td>0.5</td>\n",
       "      <td>0.61</td>\n",
       "    </tr>\n",
       "    <tr>\n",
       "      <th>4</th>\n",
       "      <td>ZQsAWst58jK9HcKvx</td>\n",
       "      <td>-2147481563_6968366610050747.0</td>\n",
       "      <td>6.968367e+15</td>\n",
       "      <td>5</td>\n",
       "      <td>0</td>\n",
       "      <td>1</td>\n",
       "      <td>0</td>\n",
       "      <td>0</td>\n",
       "      <td>Fit</td>\n",
       "      <td>Fitness</td>\n",
       "      <td>Fitness</td>\n",
       "      <td>Fit</td>\n",
       "      <td>Fat</td>\n",
       "      <td>1.0</td>\n",
       "      <td>2</td>\n",
       "      <td>0</td>\n",
       "      <td>0</td>\n",
       "      <td>Desktop</td>\n",
       "      <td>0.0</td>\n",
       "      <td>1.0</td>\n",
       "      <td>RUS</td>\n",
       "      <td>32.0</td>\n",
       "      <td>bachelor</td>\n",
       "      <td>male</td>\n",
       "      <td>35000</td>\n",
       "      <td>0.5</td>\n",
       "      <td>0.61</td>\n",
       "    </tr>\n",
       "  </tbody>\n",
       "</table>\n",
       "</div>"
      ],
      "text/plain": [
       "          ResponseID               ExtendedSessionID        UserID  \\\n",
       "0  3ubu5Minm7ygqK3oa  -2147481563_6968366610050747.0  6.968367e+15   \n",
       "1  FKd9Fje2tWt2sHi6v  -2147481563_6968366610050747.0  6.968367e+15   \n",
       "2  J6WRHLj8exr4bNwTm  -2147481563_6968366610050747.0  6.968367e+15   \n",
       "3  KcYXwqS3rTrbqdTY2  -2147481563_6968366610050747.0  6.968367e+15   \n",
       "4  ZQsAWst58jK9HcKvx  -2147481563_6968366610050747.0  6.968367e+15   \n",
       "\n",
       "   ScenarioOrder  Intervention  PedPed  Barrier  CrossingSignal  \\\n",
       "0             13             0       0        0               0   \n",
       "1              8             0       1        0               0   \n",
       "2              2             0       0        0               2   \n",
       "3              1             0       1        0               2   \n",
       "4              5             0       1        0               0   \n",
       "\n",
       "  AttributeLevel ScenarioTypeStrict ScenarioType DefaultChoice  \\\n",
       "0         Female             Gender       Gender          Male   \n",
       "1            Fat            Fitness      Fitness           Fit   \n",
       "2          Young                Age          Age         Young   \n",
       "3           Pets            Species      Species       Hoomans   \n",
       "4            Fit            Fitness      Fitness           Fit   \n",
       "\n",
       "  NonDefaultChoice  DefaultChoiceIsOmission  NumberOfCharacters  \\\n",
       "0           Female                      0.0                   2   \n",
       "1              Fat                      0.0                   2   \n",
       "2              Old                      1.0                   2   \n",
       "3             Pets                      0.0                   3   \n",
       "4              Fat                      1.0                   2   \n",
       "\n",
       "   DiffNumberOFCharacters  Saved Template  DescriptionShown  LeftHand  \\\n",
       "0                       0      1  Desktop               0.0       0.0   \n",
       "1                       0      0  Desktop               0.0       0.0   \n",
       "2                       0      0  Desktop               0.0       1.0   \n",
       "3                       0      0  Desktop               0.0       1.0   \n",
       "4                       0      0  Desktop               0.0       1.0   \n",
       "\n",
       "  UserCountry3 Review_age Review_education Review_gender Review_income  \\\n",
       "0          RUS       32.0         bachelor          male         35000   \n",
       "1          RUS       32.0         bachelor          male         35000   \n",
       "2          RUS       32.0         bachelor          male         35000   \n",
       "3          RUS       32.0         bachelor          male         35000   \n",
       "4          RUS       32.0         bachelor          male         35000   \n",
       "\n",
       "   Review_political  Review_religious  \n",
       "0               0.5              0.61  \n",
       "1               0.5              0.61  \n",
       "2               0.5              0.61  \n",
       "3               0.5              0.61  \n",
       "4               0.5              0.61  "
      ]
     },
     "execution_count": 5,
     "metadata": {},
     "output_type": "execute_result"
    }
   ],
   "source": [
    "# only keep rows where the ResponseID shows up twice\n",
    "duplicates = survey[survey['ResponseID'].duplicated(keep=False)]\n",
    "duplicates.head()"
   ]
  },
  {
   "cell_type": "code",
   "execution_count": 6,
   "metadata": {},
   "outputs": [
    {
     "name": "stdout",
     "output_type": "stream",
     "text": [
      "Review_education\n",
      "bachelor      2069856\n",
      "graduate      1835710\n",
      "high          1717880\n",
      "underHigh     1543130\n",
      "college       1405166\n",
      "default       1355624\n",
      "others         616360\n",
      "vocational     355514\n",
      "Name: count, dtype: int64\n"
     ]
    }
   ],
   "source": [
    "# find all unique values in the 'Review_education' column\n",
    "education = duplicates['Review_education'].value_counts()\n",
    "print(education)"
   ]
  },
  {
   "cell_type": "code",
   "execution_count": 7,
   "metadata": {},
   "outputs": [
    {
     "data": {
      "text/plain": [
       "10899240"
      ]
     },
     "execution_count": 7,
     "metadata": {},
     "output_type": "execute_result"
    }
   ],
   "source": [
    "len(duplicates)"
   ]
  },
  {
   "cell_type": "code",
   "execution_count": 8,
   "metadata": {},
   "outputs": [
    {
     "name": "stdout",
     "output_type": "stream",
     "text": [
      "9543616\n"
     ]
    }
   ],
   "source": [
    "# remove all rows where 'Review_education' is 'default'\n",
    "duplicates = duplicates[duplicates['Review_education'] != 'default']\n",
    "print(len(duplicates))"
   ]
  },
  {
   "cell_type": "code",
   "execution_count": 9,
   "metadata": {},
   "outputs": [
    {
     "name": "stdout",
     "output_type": "stream",
     "text": [
      "Index(['ResponseID', 'ExtendedSessionID', 'UserID', 'ScenarioOrder',\n",
      "       'Intervention', 'PedPed', 'Barrier', 'CrossingSignal', 'AttributeLevel',\n",
      "       'ScenarioTypeStrict', 'ScenarioType', 'DefaultChoice',\n",
      "       'NonDefaultChoice', 'DefaultChoiceIsOmission', 'NumberOfCharacters',\n",
      "       'DiffNumberOFCharacters', 'Saved', 'Template', 'DescriptionShown',\n",
      "       'LeftHand', 'UserCountry3', 'Review_age', 'Review_education',\n",
      "       'Review_gender', 'Review_income', 'Review_political',\n",
      "       'Review_religious'],\n",
      "      dtype='object')\n"
     ]
    }
   ],
   "source": [
    "print(duplicates.columns)"
   ]
  },
  {
   "cell_type": "code",
   "execution_count": 10,
   "metadata": {},
   "outputs": [
    {
     "name": "stdout",
     "output_type": "stream",
     "text": [
      "8221658\n"
     ]
    }
   ],
   "source": [
    "# drop all rows where Review_age is nan\n",
    "# duplicates = duplicates.dropna(subset=['Review_age'])\n",
    "# drop all rows with nan\n",
    "duplicates = duplicates.dropna()\n",
    "print(len(duplicates))"
   ]
  },
  {
   "cell_type": "markdown",
   "metadata": {},
   "source": [
    "## Age"
   ]
  },
  {
   "cell_type": "code",
   "execution_count": 11,
   "metadata": {},
   "outputs": [],
   "source": [
    "# drop all rows where Review_age is '' or where it is greater than 100\n",
    "duplicates = duplicates[duplicates['Review_age'] != '']"
   ]
  },
  {
   "cell_type": "code",
   "execution_count": 12,
   "metadata": {},
   "outputs": [
    {
     "name": "stdout",
     "output_type": "stream",
     "text": [
      "8156002\n"
     ]
    }
   ],
   "source": [
    "# convert Review_age to int\n",
    "duplicates['Review_age'] = duplicates['Review_age'].astype(float)\n",
    "\n",
    "# drop all rows where Review_age is greater than 100\n",
    "duplicates = duplicates[duplicates['Review_age'] <= 95]\n",
    "\n",
    "# drop all rows where Review_age is less than 5\n",
    "duplicates = duplicates[duplicates['Review_age'] >= 5]\n",
    "\n",
    "print(len(duplicates))"
   ]
  },
  {
   "cell_type": "code",
   "execution_count": 13,
   "metadata": {},
   "outputs": [
    {
     "data": {
      "text/plain": [
       "<Axes: >"
      ]
     },
     "execution_count": 13,
     "metadata": {},
     "output_type": "execute_result"
    },
    {
     "data": {
      "image/png": "[encoded data removed]",
      "text/plain": [
       "<Figure size 640x480 with 1 Axes>"
      ]
     },
     "metadata": {},
     "output_type": "display_data"
    }
   ],
   "source": [
    "# age distribution\n",
    "duplicates['Review_age'].hist()"
   ]
  },
  {
   "cell_type": "markdown",
   "metadata": {},
   "source": [
    "## Education"
   ]
  },
  {
   "cell_type": "code",
   "execution_count": 14,
   "metadata": {},
   "outputs": [
    {
     "data": {
      "text/plain": [
       "Review_education\n",
       "bachelor      1789418\n",
       "graduate      1565298\n",
       "high          1481422\n",
       "underHigh     1296828\n",
       "college       1221570\n",
       "others         495920\n",
       "vocational     305546\n",
       "Name: count, dtype: int64"
      ]
     },
     "execution_count": 14,
     "metadata": {},
     "output_type": "execute_result"
    }
   ],
   "source": [
    "duplicates['Review_education'].value_counts()"
   ]
  },
  {
   "cell_type": "code",
   "execution_count": 15,
   "metadata": {},
   "outputs": [
    {
     "data": {
      "text/plain": [
       "Review_education\n",
       "bachelor      1789418\n",
       "graduate      1565298\n",
       "high          1481422\n",
       "underHigh     1296828\n",
       "college       1221570\n",
       "vocational     305546\n",
       "Name: count, dtype: int64"
      ]
     },
     "execution_count": 15,
     "metadata": {},
     "output_type": "execute_result"
    }
   ],
   "source": [
    "# drop all rows where Review_education is 'others'\n",
    "duplicates = duplicates[duplicates['Review_education'] != 'others']\n",
    "duplicates['Review_education'].value_counts()"
   ]
  },
  {
   "cell_type": "code",
   "execution_count": 16,
   "metadata": {},
   "outputs": [],
   "source": [
    "def map_education(education):\n",
    "    mapping = {\n",
    "        'underHigh':0,\n",
    "        'high':1,\n",
    "        'vocational':2,\n",
    "        'college':3,\n",
    "        'bachelor':4,\n",
    "        'graduate':5\n",
    "    }\n",
    "    return mapping.get(education, None)\n",
    "\n",
    "duplicates['Review_education'] = duplicates['Review_education'].apply(map_education)"
   ]
  },
  {
   "cell_type": "code",
   "execution_count": 17,
   "metadata": {},
   "outputs": [
    {
     "data": {
      "text/plain": [
       "Review_education\n",
       "4    1789418\n",
       "5    1565298\n",
       "1    1481422\n",
       "0    1296828\n",
       "3    1221570\n",
       "2     305546\n",
       "Name: count, dtype: int64"
      ]
     },
     "execution_count": 17,
     "metadata": {},
     "output_type": "execute_result"
    }
   ],
   "source": [
    "duplicates['Review_education'].value_counts()"
   ]
  },
  {
   "cell_type": "code",
   "execution_count": 18,
   "metadata": {},
   "outputs": [
    {
     "data": {
      "text/plain": [
       "<Axes: >"
      ]
     },
     "execution_count": 18,
     "metadata": {},
     "output_type": "execute_result"
    },
    {
     "data": {
      "image/png": "[encoded data removed]",
      "text/plain": [
       "<Figure size 640x480 with 1 Axes>"
      ]
     },
     "metadata": {},
     "output_type": "display_data"
    }
   ],
   "source": [
    "#hist with one bin per unique value\n",
    "duplicates['Review_education'].hist()"
   ]
  },
  {
   "cell_type": "markdown",
   "metadata": {},
   "source": [
    "## Income"
   ]
  },
  {
   "cell_type": "code",
   "execution_count": 19,
   "metadata": {},
   "outputs": [
    {
     "data": {
      "text/plain": [
       "Review_income\n",
       "under5000      2436390\n",
       "default        1038372\n",
       "5000            644366\n",
       "50000           613700\n",
       "35000           595342\n",
       "above100000     541324\n",
       "15000           537436\n",
       "25000           502002\n",
       "10000           473978\n",
       "80000           268948\n",
       "over10000         8224\n",
       "Name: count, dtype: int64"
      ]
     },
     "execution_count": 19,
     "metadata": {},
     "output_type": "execute_result"
    }
   ],
   "source": [
    "duplicates['Review_income'].value_counts()"
   ]
  },
  {
   "cell_type": "code",
   "execution_count": 20,
   "metadata": {},
   "outputs": [
    {
     "name": "stdout",
     "output_type": "stream",
     "text": [
      "6621710\n",
      "6613486\n"
     ]
    }
   ],
   "source": [
    "# drop all rows where the income is 'default'\n",
    "duplicates = duplicates[duplicates['Review_income'] != 'default']\n",
    "print(len(duplicates))\n",
    "\n",
    "# drop all rows where the income is 'over10000'\n",
    "duplicates = duplicates[duplicates['Review_income'] != 'over10000']\n",
    "print(len(duplicates))"
   ]
  },
  {
   "cell_type": "code",
   "execution_count": 21,
   "metadata": {},
   "outputs": [],
   "source": [
    "def map_income(income):\n",
    "    mapping = {\n",
    "        'under5000': 0,\n",
    "        '5000': 1,\n",
    "        '10000': 2,\n",
    "        '15000': 3,\n",
    "        '25000': 4,\n",
    "        '35000': 5,\n",
    "        '50000': 6,\n",
    "        '80000': 7,\n",
    "        'above100000': 8,\n",
    "        'default': None  \n",
    "    }\n",
    "    return mapping.get(income, None) \n",
    "\n",
    "duplicates['Review_income'] = duplicates['Review_income'].apply(map_income)"
   ]
  },
  {
   "cell_type": "code",
   "execution_count": 22,
   "metadata": {},
   "outputs": [
    {
     "data": {
      "text/plain": [
       "<Axes: >"
      ]
     },
     "execution_count": 22,
     "metadata": {},
     "output_type": "execute_result"
    },
    {
     "data": {
      "image/png": "[encoded data removed]",
      "text/plain": [
       "<Figure size 640x480 with 1 Axes>"
      ]
     },
     "metadata": {},
     "output_type": "display_data"
    }
   ],
   "source": [
    "# hist of income with x rotated by 90\n",
    "\n",
    "duplicates['Review_income'].hist()"
   ]
  },
  {
   "cell_type": "markdown",
   "metadata": {},
   "source": [
    "## Gender"
   ]
  },
  {
   "cell_type": "code",
   "execution_count": 23,
   "metadata": {},
   "outputs": [
    {
     "data": {
      "text/plain": [
       "Review_gender\n",
       "male       4822688\n",
       "female     1653406\n",
       "others      115264\n",
       "default      22128\n",
       "Name: count, dtype: int64"
      ]
     },
     "execution_count": 23,
     "metadata": {},
     "output_type": "execute_result"
    }
   ],
   "source": [
    "duplicates[\"Review_gender\"].value_counts()"
   ]
  },
  {
   "cell_type": "code",
   "execution_count": 24,
   "metadata": {},
   "outputs": [
    {
     "name": "stdout",
     "output_type": "stream",
     "text": [
      "6591358\n"
     ]
    }
   ],
   "source": [
    "# Remove all rows where review gender is 'default'\n",
    "duplicates = duplicates[duplicates['Review_gender'] != 'default']\n",
    "\n",
    "print(len(duplicates))"
   ]
  },
  {
   "cell_type": "code",
   "execution_count": 25,
   "metadata": {},
   "outputs": [],
   "source": [
    "def map_gender(gender):\n",
    "    mapping = {\n",
    "        'male': 0,\n",
    "        'female': 1,\n",
    "        'others': 2,\n",
    "    }\n",
    "    return mapping.get(gender, None)\n",
    "\n",
    "duplicates['Review_gender'] = duplicates['Review_gender'].apply(map_gender)"
   ]
  },
  {
   "cell_type": "code",
   "execution_count": 26,
   "metadata": {},
   "outputs": [
    {
     "data": {
      "text/plain": [
       "<Axes: >"
      ]
     },
     "execution_count": 26,
     "metadata": {},
     "output_type": "execute_result"
    },
    {
     "data": {
      "image/png": "[encoded data removed]",
      "text/plain": [
       "<Figure size 640x480 with 1 Axes>"
      ]
     },
     "metadata": {},
     "output_type": "display_data"
    }
   ],
   "source": [
    "# hist\n",
    "duplicates['Review_gender'].hist()"
   ]
  },
  {
   "cell_type": "markdown",
   "metadata": {},
   "source": [
    "## Politics"
   ]
  },
  {
   "cell_type": "code",
   "execution_count": 27,
   "metadata": {},
   "outputs": [
    {
     "name": "stdout",
     "output_type": "stream",
     "text": [
      "4697540\n"
     ]
    }
   ],
   "source": [
    "duplicates[\"Review_political\"].value_counts()\n",
    "\n",
    "# Remove all rows where review political is 0.5\n",
    "duplicates = duplicates[duplicates['Review_political'] != 0.5]\n",
    "\n",
    "print(len(duplicates))"
   ]
  },
  {
   "cell_type": "markdown",
   "metadata": {},
   "source": [
    "## Religion"
   ]
  },
  {
   "cell_type": "code",
   "execution_count": 28,
   "metadata": {},
   "outputs": [
    {
     "name": "stdout",
     "output_type": "stream",
     "text": [
      "4380026\n"
     ]
    }
   ],
   "source": [
    "duplicates[\"Review_religious\"].value_counts()\n",
    "\n",
    "# Remove all rows where review religious is 0.5\n",
    "duplicates = duplicates[duplicates['Review_religious'] != 0.5]\n",
    "\n",
    "# remove all values less than 0\n",
    "duplicates = duplicates[duplicates['Review_religious'] >= 0]\n",
    "\n",
    "print(len(duplicates))"
   ]
  },
  {
   "cell_type": "code",
   "execution_count": 29,
   "metadata": {},
   "outputs": [
    {
     "data": {
      "text/plain": [
       "<Axes: >"
      ]
     },
     "execution_count": 29,
     "metadata": {},
     "output_type": "execute_result"
    },
    {
     "data": {
      "image/png": "[encoded data removed]",
      "text/plain": [
       "<Figure size 640x480 with 1 Axes>"
      ]
     },
     "metadata": {},
     "output_type": "display_data"
    }
   ],
   "source": [
    "# show hist for religious\n",
    "duplicates['Review_religious'].hist()"
   ]
  },
  {
   "cell_type": "code",
   "execution_count": 30,
   "metadata": {},
   "outputs": [
    {
     "data": {
      "text/plain": [
       "<Axes: >"
      ]
     },
     "execution_count": 30,
     "metadata": {},
     "output_type": "execute_result"
    },
    {
     "data": {
      "image/png": "[encoded data removed]",
      "text/plain": [
       "<Figure size 640x480 with 1 Axes>"
      ]
     },
     "metadata": {},
     "output_type": "display_data"
    }
   ],
   "source": [
    "# show hist for political\n",
    "duplicates['Review_political'].hist()"
   ]
  },
  {
   "cell_type": "markdown",
   "metadata": {},
   "source": [
    "## Politics and Religion"
   ]
  },
  {
   "cell_type": "code",
   "execution_count": 31,
   "metadata": {},
   "outputs": [
    {
     "data": {
      "text/plain": [
       "<seaborn.axisgrid.JointGrid at 0x1adee7130>"
      ]
     },
     "execution_count": 31,
     "metadata": {},
     "output_type": "execute_result"
    },
    {
     "data": {
      "image/png": "[encoded data removed]",
      "text/plain": [
       "<Figure size 600x600 with 3 Axes>"
      ]
     },
     "metadata": {},
     "output_type": "display_data"
    }
   ],
   "source": [
    "sns.jointplot(x='Review_political', y='Review_religious', data=duplicates, kind='hex')"
   ]
  },
  {
   "cell_type": "markdown",
   "metadata": {},
   "source": [
    "## Age and Politics"
   ]
  },
  {
   "cell_type": "code",
   "execution_count": 32,
   "metadata": {},
   "outputs": [
    {
     "data": {
      "text/plain": [
       "<seaborn.axisgrid.JointGrid at 0x1ae3a4550>"
      ]
     },
     "execution_count": 32,
     "metadata": {},
     "output_type": "execute_result"
    },
    {
     "data": {
      "image/png": "[encoded data removed]",
      "text/plain": [
       "<Figure size 600x600 with 3 Axes>"
      ]
     },
     "metadata": {},
     "output_type": "display_data"
    }
   ],
   "source": [
    "sns.jointplot(x='Review_political', y='Review_age', data=duplicates, kind='hex')"
   ]
  },
  {
   "cell_type": "code",
   "execution_count": 33,
   "metadata": {},
   "outputs": [
    {
     "data": {
      "text/plain": [
       "<Axes: >"
      ]
     },
     "execution_count": 33,
     "metadata": {},
     "output_type": "execute_result"
    },
    {
     "data": {
      "image/png": "[encoded data removed]",
      "text/plain": [
       "<Figure size 640x480 with 2 Axes>"
      ]
     },
     "metadata": {},
     "output_type": "display_data"
    }
   ],
   "source": [
    "# heat map for age political and religious\n",
    "sns.heatmap(duplicates[['Review_political', 'Review_religious', 'Review_age']].corr(), annot=True)"
   ]
  },
  {
   "cell_type": "code",
   "execution_count": 34,
   "metadata": {},
   "outputs": [
    {
     "data": {
      "text/plain": [
       "4380026"
      ]
     },
     "execution_count": 34,
     "metadata": {},
     "output_type": "execute_result"
    }
   ],
   "source": [
    "len(duplicates)"
   ]
  },
  {
   "cell_type": "code",
   "execution_count": 35,
   "metadata": {},
   "outputs": [
    {
     "data": {
      "text/html": [
       "<div>\n",
       "<style scoped>\n",
       "    .dataframe tbody tr th:only-of-type {\n",
       "        vertical-align: middle;\n",
       "    }\n",
       "\n",
       "    .dataframe tbody tr th {\n",
       "        vertical-align: top;\n",
       "    }\n",
       "\n",
       "    .dataframe thead th {\n",
       "        text-align: right;\n",
       "    }\n",
       "</style>\n",
       "<table border=\"1\" class=\"dataframe\">\n",
       "  <thead>\n",
       "    <tr style=\"text-align: right;\">\n",
       "      <th></th>\n",
       "      <th>ResponseID</th>\n",
       "      <th>ExtendedSessionID</th>\n",
       "      <th>UserID</th>\n",
       "      <th>ScenarioOrder</th>\n",
       "      <th>Intervention</th>\n",
       "      <th>PedPed</th>\n",
       "      <th>Barrier</th>\n",
       "      <th>CrossingSignal</th>\n",
       "      <th>AttributeLevel</th>\n",
       "      <th>ScenarioTypeStrict</th>\n",
       "      <th>ScenarioType</th>\n",
       "      <th>DefaultChoice</th>\n",
       "      <th>NonDefaultChoice</th>\n",
       "      <th>DefaultChoiceIsOmission</th>\n",
       "      <th>NumberOfCharacters</th>\n",
       "      <th>DiffNumberOFCharacters</th>\n",
       "      <th>Saved</th>\n",
       "      <th>Template</th>\n",
       "      <th>DescriptionShown</th>\n",
       "      <th>LeftHand</th>\n",
       "      <th>UserCountry3</th>\n",
       "      <th>Review_age</th>\n",
       "      <th>Review_education</th>\n",
       "      <th>Review_gender</th>\n",
       "      <th>Review_income</th>\n",
       "      <th>Review_political</th>\n",
       "      <th>Review_religious</th>\n",
       "    </tr>\n",
       "  </thead>\n",
       "  <tbody>\n",
       "    <tr>\n",
       "      <th>13</th>\n",
       "      <td>QMcdnKDXB8aCjcyY7</td>\n",
       "      <td>-2147456672_5603843098383972.0</td>\n",
       "      <td>5.603843e+15</td>\n",
       "      <td>7</td>\n",
       "      <td>0</td>\n",
       "      <td>0</td>\n",
       "      <td>1</td>\n",
       "      <td>0</td>\n",
       "      <td>Hoomans</td>\n",
       "      <td>Species</td>\n",
       "      <td>Species</td>\n",
       "      <td>Hoomans</td>\n",
       "      <td>Pets</td>\n",
       "      <td>1.0</td>\n",
       "      <td>2</td>\n",
       "      <td>0</td>\n",
       "      <td>1</td>\n",
       "      <td>Desktop</td>\n",
       "      <td>0.0</td>\n",
       "      <td>1.0</td>\n",
       "      <td>BEL</td>\n",
       "      <td>23.0</td>\n",
       "      <td>5</td>\n",
       "      <td>0</td>\n",
       "      <td>5</td>\n",
       "      <td>0.65</td>\n",
       "      <td>0.0</td>\n",
       "    </tr>\n",
       "    <tr>\n",
       "      <th>14</th>\n",
       "      <td>ex8Yry3j5xs2gQB9t</td>\n",
       "      <td>-2147456672_5603843098383972.0</td>\n",
       "      <td>5.603843e+15</td>\n",
       "      <td>13</td>\n",
       "      <td>0</td>\n",
       "      <td>1</td>\n",
       "      <td>0</td>\n",
       "      <td>0</td>\n",
       "      <td>Fit</td>\n",
       "      <td>Fitness</td>\n",
       "      <td>Fitness</td>\n",
       "      <td>Fit</td>\n",
       "      <td>Fat</td>\n",
       "      <td>1.0</td>\n",
       "      <td>2</td>\n",
       "      <td>0</td>\n",
       "      <td>0</td>\n",
       "      <td>Desktop</td>\n",
       "      <td>0.0</td>\n",
       "      <td>1.0</td>\n",
       "      <td>BEL</td>\n",
       "      <td>23.0</td>\n",
       "      <td>5</td>\n",
       "      <td>0</td>\n",
       "      <td>5</td>\n",
       "      <td>0.65</td>\n",
       "      <td>0.0</td>\n",
       "    </tr>\n",
       "    <tr>\n",
       "      <th>15</th>\n",
       "      <td>gTsX5fFbjHHpeQWvf</td>\n",
       "      <td>-2147456672_5603843098383972.0</td>\n",
       "      <td>5.603843e+15</td>\n",
       "      <td>1</td>\n",
       "      <td>0</td>\n",
       "      <td>0</td>\n",
       "      <td>0</td>\n",
       "      <td>0</td>\n",
       "      <td>Young</td>\n",
       "      <td>Age</td>\n",
       "      <td>Age</td>\n",
       "      <td>Young</td>\n",
       "      <td>Old</td>\n",
       "      <td>1.0</td>\n",
       "      <td>1</td>\n",
       "      <td>0</td>\n",
       "      <td>0</td>\n",
       "      <td>Desktop</td>\n",
       "      <td>1.0</td>\n",
       "      <td>1.0</td>\n",
       "      <td>BEL</td>\n",
       "      <td>23.0</td>\n",
       "      <td>5</td>\n",
       "      <td>0</td>\n",
       "      <td>5</td>\n",
       "      <td>0.65</td>\n",
       "      <td>0.0</td>\n",
       "    </tr>\n",
       "    <tr>\n",
       "      <th>16</th>\n",
       "      <td>i7ztRb5RdTu27QT4y</td>\n",
       "      <td>-2147456672_5603843098383972.0</td>\n",
       "      <td>5.603843e+15</td>\n",
       "      <td>2</td>\n",
       "      <td>0</td>\n",
       "      <td>1</td>\n",
       "      <td>0</td>\n",
       "      <td>1</td>\n",
       "      <td>Male</td>\n",
       "      <td>Gender</td>\n",
       "      <td>Gender</td>\n",
       "      <td>Male</td>\n",
       "      <td>Female</td>\n",
       "      <td>1.0</td>\n",
       "      <td>4</td>\n",
       "      <td>0</td>\n",
       "      <td>1</td>\n",
       "      <td>Desktop</td>\n",
       "      <td>0.0</td>\n",
       "      <td>0.0</td>\n",
       "      <td>BEL</td>\n",
       "      <td>23.0</td>\n",
       "      <td>5</td>\n",
       "      <td>0</td>\n",
       "      <td>5</td>\n",
       "      <td>0.65</td>\n",
       "      <td>0.0</td>\n",
       "    </tr>\n",
       "    <tr>\n",
       "      <th>17</th>\n",
       "      <td>pymKD6vrEsZSNw6e2</td>\n",
       "      <td>-2147456672_5603843098383972.0</td>\n",
       "      <td>5.603843e+15</td>\n",
       "      <td>9</td>\n",
       "      <td>0</td>\n",
       "      <td>1</td>\n",
       "      <td>0</td>\n",
       "      <td>2</td>\n",
       "      <td>Old</td>\n",
       "      <td>Age</td>\n",
       "      <td>Age</td>\n",
       "      <td>Young</td>\n",
       "      <td>Old</td>\n",
       "      <td>0.0</td>\n",
       "      <td>3</td>\n",
       "      <td>0</td>\n",
       "      <td>0</td>\n",
       "      <td>Desktop</td>\n",
       "      <td>0.0</td>\n",
       "      <td>1.0</td>\n",
       "      <td>BEL</td>\n",
       "      <td>23.0</td>\n",
       "      <td>5</td>\n",
       "      <td>0</td>\n",
       "      <td>5</td>\n",
       "      <td>0.65</td>\n",
       "      <td>0.0</td>\n",
       "    </tr>\n",
       "  </tbody>\n",
       "</table>\n",
       "</div>"
      ],
      "text/plain": [
       "           ResponseID               ExtendedSessionID        UserID  \\\n",
       "13  QMcdnKDXB8aCjcyY7  -2147456672_5603843098383972.0  5.603843e+15   \n",
       "14  ex8Yry3j5xs2gQB9t  -2147456672_5603843098383972.0  5.603843e+15   \n",
       "15  gTsX5fFbjHHpeQWvf  -2147456672_5603843098383972.0  5.603843e+15   \n",
       "16  i7ztRb5RdTu27QT4y  -2147456672_5603843098383972.0  5.603843e+15   \n",
       "17  pymKD6vrEsZSNw6e2  -2147456672_5603843098383972.0  5.603843e+15   \n",
       "\n",
       "    ScenarioOrder  Intervention  PedPed  Barrier  CrossingSignal  \\\n",
       "13              7             0       0        1               0   \n",
       "14             13             0       1        0               0   \n",
       "15              1             0       0        0               0   \n",
       "16              2             0       1        0               1   \n",
       "17              9             0       1        0               2   \n",
       "\n",
       "   AttributeLevel ScenarioTypeStrict ScenarioType DefaultChoice  \\\n",
       "13        Hoomans            Species      Species       Hoomans   \n",
       "14            Fit            Fitness      Fitness           Fit   \n",
       "15          Young                Age          Age         Young   \n",
       "16           Male             Gender       Gender          Male   \n",
       "17            Old                Age          Age         Young   \n",
       "\n",
       "   NonDefaultChoice  DefaultChoiceIsOmission  NumberOfCharacters  \\\n",
       "13             Pets                      1.0                   2   \n",
       "14              Fat                      1.0                   2   \n",
       "15              Old                      1.0                   1   \n",
       "16           Female                      1.0                   4   \n",
       "17              Old                      0.0                   3   \n",
       "\n",
       "    DiffNumberOFCharacters  Saved Template  DescriptionShown  LeftHand  \\\n",
       "13                       0      1  Desktop               0.0       1.0   \n",
       "14                       0      0  Desktop               0.0       1.0   \n",
       "15                       0      0  Desktop               1.0       1.0   \n",
       "16                       0      1  Desktop               0.0       0.0   \n",
       "17                       0      0  Desktop               0.0       1.0   \n",
       "\n",
       "   UserCountry3  Review_age  Review_education  Review_gender  Review_income  \\\n",
       "13          BEL        23.0                 5              0              5   \n",
       "14          BEL        23.0                 5              0              5   \n",
       "15          BEL        23.0                 5              0              5   \n",
       "16          BEL        23.0                 5              0              5   \n",
       "17          BEL        23.0                 5              0              5   \n",
       "\n",
       "    Review_political  Review_religious  \n",
       "13              0.65               0.0  \n",
       "14              0.65               0.0  \n",
       "15              0.65               0.0  \n",
       "16              0.65               0.0  \n",
       "17              0.65               0.0  "
      ]
     },
     "execution_count": 35,
     "metadata": {},
     "output_type": "execute_result"
    }
   ],
   "source": [
    "duplicates.head()"
   ]
  },
  {
   "cell_type": "code",
   "execution_count": 38,
   "metadata": {},
   "outputs": [],
   "source": [
    "# normalize Review_age\tReview_education\tReview_gender\tReview_income\tReview_political\tReview_religious\n",
    "from sklearn.preprocessing import MinMaxScaler\n",
    "\n",
    "scaler = MinMaxScaler()\n",
    "duplicates[['Review_age', 'Review_education', 'Review_gender', 'Review_income', 'Review_political', 'Review_religious']] = scaler.fit_transform(duplicates[['Review_age', 'Review_education', 'Review_gender', 'Review_income', 'Review_political', 'Review_religious']])\n",
    "                                                                                                                                                            \n"
   ]
  },
  {
   "cell_type": "code",
   "execution_count": 39,
   "metadata": {},
   "outputs": [
    {
     "data": {
      "text/html": [
       "<div>\n",
       "<style scoped>\n",
       "    .dataframe tbody tr th:only-of-type {\n",
       "        vertical-align: middle;\n",
       "    }\n",
       "\n",
       "    .dataframe tbody tr th {\n",
       "        vertical-align: top;\n",
       "    }\n",
       "\n",
       "    .dataframe thead th {\n",
       "        text-align: right;\n",
       "    }\n",
       "</style>\n",
       "<table border=\"1\" class=\"dataframe\">\n",
       "  <thead>\n",
       "    <tr style=\"text-align: right;\">\n",
       "      <th></th>\n",
       "      <th>ResponseID</th>\n",
       "      <th>ExtendedSessionID</th>\n",
       "      <th>UserID</th>\n",
       "      <th>ScenarioOrder</th>\n",
       "      <th>Intervention</th>\n",
       "      <th>PedPed</th>\n",
       "      <th>Barrier</th>\n",
       "      <th>CrossingSignal</th>\n",
       "      <th>AttributeLevel</th>\n",
       "      <th>ScenarioTypeStrict</th>\n",
       "      <th>ScenarioType</th>\n",
       "      <th>DefaultChoice</th>\n",
       "      <th>NonDefaultChoice</th>\n",
       "      <th>DefaultChoiceIsOmission</th>\n",
       "      <th>NumberOfCharacters</th>\n",
       "      <th>DiffNumberOFCharacters</th>\n",
       "      <th>Saved</th>\n",
       "      <th>Template</th>\n",
       "      <th>DescriptionShown</th>\n",
       "      <th>LeftHand</th>\n",
       "      <th>UserCountry3</th>\n",
       "      <th>Review_age</th>\n",
       "      <th>Review_education</th>\n",
       "      <th>Review_gender</th>\n",
       "      <th>Review_income</th>\n",
       "      <th>Review_political</th>\n",
       "      <th>Review_religious</th>\n",
       "    </tr>\n",
       "  </thead>\n",
       "  <tbody>\n",
       "    <tr>\n",
       "      <th>13</th>\n",
       "      <td>QMcdnKDXB8aCjcyY7</td>\n",
       "      <td>-2147456672_5603843098383972.0</td>\n",
       "      <td>5.603843e+15</td>\n",
       "      <td>7</td>\n",
       "      <td>0</td>\n",
       "      <td>0</td>\n",
       "      <td>1</td>\n",
       "      <td>0</td>\n",
       "      <td>Hoomans</td>\n",
       "      <td>Species</td>\n",
       "      <td>Species</td>\n",
       "      <td>Hoomans</td>\n",
       "      <td>Pets</td>\n",
       "      <td>1.0</td>\n",
       "      <td>2</td>\n",
       "      <td>0</td>\n",
       "      <td>1</td>\n",
       "      <td>Desktop</td>\n",
       "      <td>0.0</td>\n",
       "      <td>1.0</td>\n",
       "      <td>BEL</td>\n",
       "      <td>0.2</td>\n",
       "      <td>1.0</td>\n",
       "      <td>0.0</td>\n",
       "      <td>0.625</td>\n",
       "      <td>0.65</td>\n",
       "      <td>0.0</td>\n",
       "    </tr>\n",
       "    <tr>\n",
       "      <th>14</th>\n",
       "      <td>ex8Yry3j5xs2gQB9t</td>\n",
       "      <td>-2147456672_5603843098383972.0</td>\n",
       "      <td>5.603843e+15</td>\n",
       "      <td>13</td>\n",
       "      <td>0</td>\n",
       "      <td>1</td>\n",
       "      <td>0</td>\n",
       "      <td>0</td>\n",
       "      <td>Fit</td>\n",
       "      <td>Fitness</td>\n",
       "      <td>Fitness</td>\n",
       "      <td>Fit</td>\n",
       "      <td>Fat</td>\n",
       "      <td>1.0</td>\n",
       "      <td>2</td>\n",
       "      <td>0</td>\n",
       "      <td>0</td>\n",
       "      <td>Desktop</td>\n",
       "      <td>0.0</td>\n",
       "      <td>1.0</td>\n",
       "      <td>BEL</td>\n",
       "      <td>0.2</td>\n",
       "      <td>1.0</td>\n",
       "      <td>0.0</td>\n",
       "      <td>0.625</td>\n",
       "      <td>0.65</td>\n",
       "      <td>0.0</td>\n",
       "    </tr>\n",
       "    <tr>\n",
       "      <th>15</th>\n",
       "      <td>gTsX5fFbjHHpeQWvf</td>\n",
       "      <td>-2147456672_5603843098383972.0</td>\n",
       "      <td>5.603843e+15</td>\n",
       "      <td>1</td>\n",
       "      <td>0</td>\n",
       "      <td>0</td>\n",
       "      <td>0</td>\n",
       "      <td>0</td>\n",
       "      <td>Young</td>\n",
       "      <td>Age</td>\n",
       "      <td>Age</td>\n",
       "      <td>Young</td>\n",
       "      <td>Old</td>\n",
       "      <td>1.0</td>\n",
       "      <td>1</td>\n",
       "      <td>0</td>\n",
       "      <td>0</td>\n",
       "      <td>Desktop</td>\n",
       "      <td>1.0</td>\n",
       "      <td>1.0</td>\n",
       "      <td>BEL</td>\n",
       "      <td>0.2</td>\n",
       "      <td>1.0</td>\n",
       "      <td>0.0</td>\n",
       "      <td>0.625</td>\n",
       "      <td>0.65</td>\n",
       "      <td>0.0</td>\n",
       "    </tr>\n",
       "    <tr>\n",
       "      <th>16</th>\n",
       "      <td>i7ztRb5RdTu27QT4y</td>\n",
       "      <td>-2147456672_5603843098383972.0</td>\n",
       "      <td>5.603843e+15</td>\n",
       "      <td>2</td>\n",
       "      <td>0</td>\n",
       "      <td>1</td>\n",
       "      <td>0</td>\n",
       "      <td>1</td>\n",
       "      <td>Male</td>\n",
       "      <td>Gender</td>\n",
       "      <td>Gender</td>\n",
       "      <td>Male</td>\n",
       "      <td>Female</td>\n",
       "      <td>1.0</td>\n",
       "      <td>4</td>\n",
       "      <td>0</td>\n",
       "      <td>1</td>\n",
       "      <td>Desktop</td>\n",
       "      <td>0.0</td>\n",
       "      <td>0.0</td>\n",
       "      <td>BEL</td>\n",
       "      <td>0.2</td>\n",
       "      <td>1.0</td>\n",
       "      <td>0.0</td>\n",
       "      <td>0.625</td>\n",
       "      <td>0.65</td>\n",
       "      <td>0.0</td>\n",
       "    </tr>\n",
       "    <tr>\n",
       "      <th>17</th>\n",
       "      <td>pymKD6vrEsZSNw6e2</td>\n",
       "      <td>-2147456672_5603843098383972.0</td>\n",
       "      <td>5.603843e+15</td>\n",
       "      <td>9</td>\n",
       "      <td>0</td>\n",
       "      <td>1</td>\n",
       "      <td>0</td>\n",
       "      <td>2</td>\n",
       "      <td>Old</td>\n",
       "      <td>Age</td>\n",
       "      <td>Age</td>\n",
       "      <td>Young</td>\n",
       "      <td>Old</td>\n",
       "      <td>0.0</td>\n",
       "      <td>3</td>\n",
       "      <td>0</td>\n",
       "      <td>0</td>\n",
       "      <td>Desktop</td>\n",
       "      <td>0.0</td>\n",
       "      <td>1.0</td>\n",
       "      <td>BEL</td>\n",
       "      <td>0.2</td>\n",
       "      <td>1.0</td>\n",
       "      <td>0.0</td>\n",
       "      <td>0.625</td>\n",
       "      <td>0.65</td>\n",
       "      <td>0.0</td>\n",
       "    </tr>\n",
       "  </tbody>\n",
       "</table>\n",
       "</div>"
      ],
      "text/plain": [
       "           ResponseID               ExtendedSessionID        UserID  \\\n",
       "13  QMcdnKDXB8aCjcyY7  -2147456672_5603843098383972.0  5.603843e+15   \n",
       "14  ex8Yry3j5xs2gQB9t  -2147456672_5603843098383972.0  5.603843e+15   \n",
       "15  gTsX5fFbjHHpeQWvf  -2147456672_5603843098383972.0  5.603843e+15   \n",
       "16  i7ztRb5RdTu27QT4y  -2147456672_5603843098383972.0  5.603843e+15   \n",
       "17  pymKD6vrEsZSNw6e2  -2147456672_5603843098383972.0  5.603843e+15   \n",
       "\n",
       "    ScenarioOrder  Intervention  PedPed  Barrier  CrossingSignal  \\\n",
       "13              7             0       0        1               0   \n",
       "14             13             0       1        0               0   \n",
       "15              1             0       0        0               0   \n",
       "16              2             0       1        0               1   \n",
       "17              9             0       1        0               2   \n",
       "\n",
       "   AttributeLevel ScenarioTypeStrict ScenarioType DefaultChoice  \\\n",
       "13        Hoomans            Species      Species       Hoomans   \n",
       "14            Fit            Fitness      Fitness           Fit   \n",
       "15          Young                Age          Age         Young   \n",
       "16           Male             Gender       Gender          Male   \n",
       "17            Old                Age          Age         Young   \n",
       "\n",
       "   NonDefaultChoice  DefaultChoiceIsOmission  NumberOfCharacters  \\\n",
       "13             Pets                      1.0                   2   \n",
       "14              Fat                      1.0                   2   \n",
       "15              Old                      1.0                   1   \n",
       "16           Female                      1.0                   4   \n",
       "17              Old                      0.0                   3   \n",
       "\n",
       "    DiffNumberOFCharacters  Saved Template  DescriptionShown  LeftHand  \\\n",
       "13                       0      1  Desktop               0.0       1.0   \n",
       "14                       0      0  Desktop               0.0       1.0   \n",
       "15                       0      0  Desktop               1.0       1.0   \n",
       "16                       0      1  Desktop               0.0       0.0   \n",
       "17                       0      0  Desktop               0.0       1.0   \n",
       "\n",
       "   UserCountry3  Review_age  Review_education  Review_gender  Review_income  \\\n",
       "13          BEL         0.2               1.0            0.0          0.625   \n",
       "14          BEL         0.2               1.0            0.0          0.625   \n",
       "15          BEL         0.2               1.0            0.0          0.625   \n",
       "16          BEL         0.2               1.0            0.0          0.625   \n",
       "17          BEL         0.2               1.0            0.0          0.625   \n",
       "\n",
       "    Review_political  Review_religious  \n",
       "13              0.65               0.0  \n",
       "14              0.65               0.0  \n",
       "15              0.65               0.0  \n",
       "16              0.65               0.0  \n",
       "17              0.65               0.0  "
      ]
     },
     "execution_count": 39,
     "metadata": {},
     "output_type": "execute_result"
    }
   ],
   "source": [
    "duplicates.head()"
   ]
  },
  {
   "cell_type": "code",
   "execution_count": 40,
   "metadata": {},
   "outputs": [],
   "source": [
    "# save to new csv\n",
    "duplicates.to_csv('Moral Machine Data/SharedResponsesSurvey_cleaned.csv', index=False)"
   ]
  },
  {
   "cell_type": "code",
   "execution_count": null,
   "metadata": {},
   "outputs": [],
   "source": []
  }
 ],
 "metadata": {
  "kernelspec": {
   "display_name": "rep_align",
   "language": "python",
   "name": "python3"
  },
  "language_info": {
   "codemirror_mode": {
    "name": "ipython",
    "version": 3
   },
   "file_extension": ".py",
   "mimetype": "text/x-python",
   "name": "python",
   "nbconvert_exporter": "python",
   "pygments_lexer": "ipython3",
   "version": "3.10.14"
  }
 },
 "nbformat": 4,
 "nbformat_minor": 2
}
