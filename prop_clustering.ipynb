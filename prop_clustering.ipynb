{
 "cells": [
  {
   "cell_type": "markdown",
   "metadata": {},
   "source": [
    "# Steps\n",
    "1. Generate a population with fake preference vectors\n",
    "2. Make them into k groups using ``boosting sortition''\n",
    "3. create reward models for the k groups\n",
    "4. train some policy with the k groups"
   ]
  },
  {
   "cell_type": "code",
   "execution_count": 4,
   "metadata": {},
   "outputs": [],
   "source": [
    "import numpy as np\n",
    "import matplotlib.pyplot as plt"
   ]
  },
  {
   "cell_type": "code",
   "execution_count": 62,
   "metadata": {},
   "outputs": [
    {
     "name": "stdout",
     "output_type": "stream",
     "text": [
      "(0.2189346793569229, 0.991474266789678)\n"
     ]
    }
   ],
   "source": [
    "# sample age from a normal distribution with mean 50 and standard deviation 20\n",
    "# age = np.random.normal(1, 1, 100)\n",
    "# income = np.random.normal(0, 1, 100)\n",
    "\n",
    "#uniform between 0 and 1\n",
    "age = np.random.rand(100)\n",
    "income = np.random.rand(100)\n",
    "\n",
    "\n",
    "\n",
    "# age = np.random.randint(10, 100, 100)\n",
    "# income = np.random.randint(10000, 100000, 100)\n",
    "\n",
    "# create a list of tuples\n",
    "people = list(zip(age, income))\n",
    "\n",
    "\n",
    "# convert to a list of tuples\n",
    "people = [tuple(x) for x in people]\n",
    "\n",
    "print(people[0])"
   ]
  },
  {
   "cell_type": "code",
   "execution_count": 14,
   "metadata": {},
   "outputs": [],
   "source": [
    "def fair_greedy_capture(population, metric, k, q):\n",
    "    \"\"\"\n",
    "    :param population: List of individuals in the population.\n",
    "    :param metric: A function that calculates the metric of interest between two individuals.\n",
    "    :param k: Total number of representatives to select.\n",
    "    :param q: A parameter influencing the fairness and diversity of the selection.\n",
    "    \n",
    "    :return: panel of selected representatives.\n",
    "    \"\"\"\n",
    "\n",
    "    R = population.copy()\n",
    "    delta = 0\n",
    "    panel = set()\n",
    "    n = len(population)\n",
    "    # print(np.ceil(q * (n/k)))\n",
    "\n",
    "    len_B = 0\n",
    "\n",
    "    while len(R) >= np.ceil(q * (n/k)):\n",
    "        # while there is a j in R such that \n",
    "        # print(\"len(R): \", len(R))\n",
    "        for j in R:\n",
    "            # find all members of R that are within distance delta of j\n",
    "            B = set()\n",
    "            for i in R:\n",
    "                if metric(i, j) <= delta:\n",
    "                    # print(i)\n",
    "                    B.add(i)\n",
    "            if len(B) > len_B or len_B < len(B):\n",
    "                len_B = len(B)\n",
    "                # print(\"len(B): \", len(B))\n",
    "            if len(B) >= np.ceil(q * (n/k)):\n",
    "                # randomly select np.ceil(q * (n/k)) members of B to add to set S\n",
    "                S = set()\n",
    "                # select np.ceil(q * (n/k)) members of B to add to set S\n",
    "                lB = list(B)\n",
    "                B_indices = list(range(len(lB)))\n",
    "                while len(S) < np.ceil(q * (n/k)):\n",
    "                    # randomly select a tuple from B\n",
    "                    choice = np.random.choice(B_indices)\n",
    "                    S.add(lB[choice])\n",
    "                    B_indices.remove(choice)\n",
    "                # pick q individuals from S to add to add to P_hat\n",
    "                P_hat = set()\n",
    "                #select  q individuals from S to add to P_hat\n",
    "                lS = list(S)\n",
    "                S_indices = list(range(len(lS)))\n",
    "                while len(P_hat) < q:\n",
    "                    choice = np.random.choice(S_indices)\n",
    "                    P_hat.add(lS[choice])\n",
    "                    S_indices.remove(choice)\n",
    "                # add P_hat to the panel\n",
    "                panel = panel.union(P_hat)\n",
    "                #remove S from R\n",
    "                for i in S:\n",
    "                    R.remove(i)\n",
    "\n",
    "        delta += 1\n",
    "\n",
    "    if len(panel) < k:\n",
    "        # print(\"len(panel) < k\")\n",
    "        PR = [k/n for _ in len(R)]\n",
    "\n",
    "        leftovers = []\n",
    "        for i in population:\n",
    "            if i not in panel and i not in R:\n",
    "                leftovers.append(i)\n",
    "        P_leftovers = [(k-len(panel)-len(R)*(k/n))/(n-len(panel)-len(R)) for _ in len(leftovers)]\n",
    "\n",
    "        # select k-len(panel) individuals\n",
    "        pool = R + leftovers\n",
    "        probabilities = PR + P_leftovers\n",
    "        selected = np.random.choice(pool, k-len(panel), p=probabilities)\n",
    "        panel = panel.union(selected)\n",
    "\n",
    "    # print(\"delta: \", delta)\n",
    "    return panel"
   ]
  },
  {
   "cell_type": "code",
   "execution_count": 15,
   "metadata": {},
   "outputs": [],
   "source": [
    "def euclidean_distance(i, j):\n",
    "    # calculate the euclidean distance between two individuals\n",
    "    return np.sqrt((i[0] - j[0])**2 + (i[1] - j[1])**2)\n",
    "\n",
    "\n",
    "# Example usage\n",
    "population = people\n",
    "k = 10\n",
    "q = 1\n",
    "selected_representatives = fair_greedy_capture(population, euclidean_distance, k, q)"
   ]
  },
  {
   "cell_type": "code",
   "execution_count": 16,
   "metadata": {},
   "outputs": [
    {
     "name": "stdout",
     "output_type": "stream",
     "text": [
      "10\n",
      "{(36, 97505), (84, 33212), (95, 22064), (57, 26197), (28, 47357), (47, 72586), (87, 65240), (61, 15276), (54, 81346), (54, 51681)}\n"
     ]
    }
   ],
   "source": [
    "print(len(selected_representatives))\n",
    "print(selected_representatives)"
   ]
  },
  {
   "cell_type": "code",
   "execution_count": 9,
   "metadata": {},
   "outputs": [
    {
     "data": {
      "image/png": "[encoded data removed]",
      "text/plain": [
       "<Figure size 640x480 with 1 Axes>"
      ]
     },
     "metadata": {},
     "output_type": "display_data"
    }
   ],
   "source": [
    "# plot the selected representatives\n",
    "plt.scatter(age, income)\n",
    "for i in selected_representatives:\n",
    "    plt.scatter(i[0], i[1], color='red')\n",
    "\n",
    "plt.xlabel('Age')\n",
    "plt.ylabel('Income')\n",
    "plt.title('Selected Representatives')\n",
    "plt.show()"
   ]
  },
  {
   "cell_type": "markdown",
   "metadata": {},
   "source": [
    "The cost of an individual 𝑖 for a panel 𝑃 with parameter 𝑞 ∈ [𝑘], denoted by 𝑐𝑞 (𝑖, 𝑃; 𝑑) and called 𝑞-cost (or simply cost, when 𝑞 is implied from the context), is equal to the distance of 𝑖 from her 𝑞-th closest member in the panel"
   ]
  },
  {
   "cell_type": "code",
   "execution_count": 10,
   "metadata": {},
   "outputs": [],
   "source": [
    "def q_cost(i, P, q, metric):\n",
    "    \"\"\"\n",
    "    The distance between individual i and the q-th closest individual in P.\n",
    "\n",
    "    :param i: An individual.\n",
    "    :param P: A set of individuals.\n",
    "    :param q:\n",
    "    :param metric: A function that calculates the distance between two individuals.\n",
    "    \"\"\"\n",
    "    distances = []\n",
    "    for j in P:\n",
    "        distances.append(metric(i, j))\n",
    "    distances = np.array(distances)\n",
    "    indices = np.argsort(distances)\n",
    "    # print(distances)\n",
    "    return distances[indices[q-1]]\n",
    "    \n",
    "\n",
    "\n",
    "def audit(selected_representatives, population, metric, k, q):\n",
    "    \"\"\"\n",
    "    :param selected_representatives: List of selected representatives.\n",
    "    :param population: List of individuals in the population.\n",
    "    :param metric: A function that calculates the metric of interest between two individuals.\n",
    "    :param k: Total number of representatives to select.\n",
    "    :param q: A parameter influencing the fairness and diversity of the selection.\n",
    "    \n",
    "    :return: alpha\n",
    "    \"\"\"\n",
    "    alphas = []\n",
    "    #the q-cost for each individual in the population for the selected representatives\n",
    "    c_q_P = []\n",
    "    for i in population:\n",
    "        c_q_P.append(q_cost(i, selected_representatives, q, metric))\n",
    "    for j in population:\n",
    "        P_hat_j = set()\n",
    "        # find the q-1 closest individuals to j\n",
    "        distances = []\n",
    "        for i in population:\n",
    "            distances.append(metric(i, j))\n",
    "        distances = np.array(distances)\n",
    "        indices = np.argsort(distances)\n",
    "        for i in indices[:q]:\n",
    "            # print(distances[i], i)\n",
    "            P_hat_j.add(population[i])\n",
    "        # print(\"Len\",len(P_hat_j))\n",
    "        #find distance to q-th closest individual\n",
    "        c_q_P_hat = []\n",
    "        for i in population:\n",
    "            c_q_P_hat.append(q_cost(i, P_hat_j, q, metric))\n",
    "\n",
    "        #make array of c_q_P / c_q_P_hat\n",
    "        ratios = np.array(c_q_P) / np.array(c_q_P_hat)\n",
    "        ratios = np.sort(ratios)\n",
    "        idx = np.ceil(q*(len(population)/k))\n",
    "\n",
    "        alpha_hat_j = ratios[int(idx)]\n",
    "        alphas.append(alpha_hat_j)\n",
    "\n",
    "    \n",
    "    # argmax of alphas\n",
    "    alpha_hat = np.argmax(alphas)\n",
    "\n",
    "    return alpha_hat   "
   ]
  },
  {
   "cell_type": "code",
   "execution_count": 11,
   "metadata": {},
   "outputs": [
    {
     "ename": "KeyboardInterrupt",
     "evalue": "",
     "output_type": "error",
     "traceback": [
      "\u001b[0;31m---------------------------------------------------------------------------\u001b[0m",
      "\u001b[0;31mKeyboardInterrupt\u001b[0m                         Traceback (most recent call last)",
      "Cell \u001b[0;32mIn[11], line 1\u001b[0m\n\u001b[0;32m----> 1\u001b[0m selected_representatives \u001b[38;5;241m=\u001b[39m \u001b[43mfair_greedy_capture\u001b[49m\u001b[43m(\u001b[49m\u001b[43mpopulation\u001b[49m\u001b[43m,\u001b[49m\u001b[43m \u001b[49m\u001b[43meuclidean_distance\u001b[49m\u001b[43m,\u001b[49m\u001b[43m \u001b[49m\u001b[43mk\u001b[49m\u001b[43m,\u001b[49m\u001b[43m \u001b[49m\u001b[43mq\u001b[49m\u001b[43m)\u001b[49m\n\u001b[1;32m      2\u001b[0m audit(selected_representatives, population, euclidean_distance, k, q)\n",
      "Cell \u001b[0;32mIn[6], line 26\u001b[0m, in \u001b[0;36mfair_greedy_capture\u001b[0;34m(population, metric, k, q)\u001b[0m\n\u001b[1;32m     24\u001b[0m B \u001b[38;5;241m=\u001b[39m \u001b[38;5;28mset\u001b[39m()\n\u001b[1;32m     25\u001b[0m \u001b[38;5;28;01mfor\u001b[39;00m i \u001b[38;5;129;01min\u001b[39;00m R:\n\u001b[0;32m---> 26\u001b[0m     \u001b[38;5;28;01mif\u001b[39;00m \u001b[43mmetric\u001b[49m\u001b[43m(\u001b[49m\u001b[43mi\u001b[49m\u001b[43m,\u001b[49m\u001b[43m \u001b[49m\u001b[43mj\u001b[49m\u001b[43m)\u001b[49m \u001b[38;5;241m<\u001b[39m\u001b[38;5;241m=\u001b[39m delta:\n\u001b[1;32m     27\u001b[0m         \u001b[38;5;66;03m# print(i)\u001b[39;00m\n\u001b[1;32m     28\u001b[0m         B\u001b[38;5;241m.\u001b[39madd(i)\n\u001b[1;32m     29\u001b[0m \u001b[38;5;28;01mif\u001b[39;00m \u001b[38;5;28mlen\u001b[39m(B) \u001b[38;5;241m>\u001b[39m len_B \u001b[38;5;129;01mor\u001b[39;00m len_B \u001b[38;5;241m<\u001b[39m \u001b[38;5;28mlen\u001b[39m(B):\n",
      "Cell \u001b[0;32mIn[7], line 3\u001b[0m, in \u001b[0;36meuclidean_distance\u001b[0;34m(i, j)\u001b[0m\n\u001b[1;32m      1\u001b[0m \u001b[38;5;28;01mdef\u001b[39;00m \u001b[38;5;21meuclidean_distance\u001b[39m(i, j):\n\u001b[1;32m      2\u001b[0m     \u001b[38;5;66;03m# calculate the euclidean distance between two individuals\u001b[39;00m\n\u001b[0;32m----> 3\u001b[0m     \u001b[38;5;28;01mreturn\u001b[39;00m \u001b[43mnp\u001b[49m\u001b[38;5;241;43m.\u001b[39;49m\u001b[43msqrt\u001b[49m\u001b[43m(\u001b[49m\u001b[43m(\u001b[49m\u001b[43mi\u001b[49m\u001b[43m[\u001b[49m\u001b[38;5;241;43m0\u001b[39;49m\u001b[43m]\u001b[49m\u001b[43m \u001b[49m\u001b[38;5;241;43m-\u001b[39;49m\u001b[43m \u001b[49m\u001b[43mj\u001b[49m\u001b[43m[\u001b[49m\u001b[38;5;241;43m0\u001b[39;49m\u001b[43m]\u001b[49m\u001b[43m)\u001b[49m\u001b[38;5;241;43m*\u001b[39;49m\u001b[38;5;241;43m*\u001b[39;49m\u001b[38;5;241;43m2\u001b[39;49m\u001b[43m \u001b[49m\u001b[38;5;241;43m+\u001b[39;49m\u001b[43m \u001b[49m\u001b[43m(\u001b[49m\u001b[43mi\u001b[49m\u001b[43m[\u001b[49m\u001b[38;5;241;43m1\u001b[39;49m\u001b[43m]\u001b[49m\u001b[43m \u001b[49m\u001b[38;5;241;43m-\u001b[39;49m\u001b[43m \u001b[49m\u001b[43mj\u001b[49m\u001b[43m[\u001b[49m\u001b[38;5;241;43m1\u001b[39;49m\u001b[43m]\u001b[49m\u001b[43m)\u001b[49m\u001b[38;5;241;43m*\u001b[39;49m\u001b[38;5;241;43m*\u001b[39;49m\u001b[38;5;241;43m2\u001b[39;49m\u001b[43m)\u001b[49m\n",
      "\u001b[0;31mKeyboardInterrupt\u001b[0m: "
     ]
    }
   ],
   "source": [
    "selected_representatives = fair_greedy_capture(population, euclidean_distance, k, q)\n",
    "audit(selected_representatives, population, euclidean_distance, k, q)"
   ]
  },
  {
   "cell_type": "code",
   "execution_count": null,
   "metadata": {},
   "outputs": [
    {
     "name": "stdout",
     "output_type": "stream",
     "text": [
      "5.701562118716424\n"
     ]
    }
   ],
   "source": [
    "print((5+np.sqrt(41))/2)"
   ]
  },
  {
   "cell_type": "markdown",
   "metadata": {},
   "source": [
    "# Chen et al. 2019"
   ]
  },
  {
   "cell_type": "markdown",
   "metadata": {},
   "source": [
    "M is feasible cluster centers"
   ]
  },
  {
   "cell_type": "code",
   "execution_count": 77,
   "metadata": {},
   "outputs": [],
   "source": [
    "def B(x, delta, population, metric):\n",
    "    \"\"\"\n",
    "    Find all members of the population that are within distance delta of x.\n",
    "\n",
    "    :param x: An individual.\n",
    "    :param delta: A radius.\n",
    "    :param population: List of individuals in the population.\n",
    "    :param metric: A function that calculates the metric of interest between two individuals.\n",
    "    \"\"\"\n",
    "    B = []\n",
    "    for i in population:\n",
    "        if metric(x, i) <= delta:\n",
    "            B.append(i)\n",
    "    return B\n",
    "\n",
    "def M(X, N):\n",
    "    \"\"\"\n",
    "    Find the candidate individuals to add to the panel. i.e. the individuals in N that are not in X.\n",
    "\n",
    "    :param X: The current panel.\n",
    "    :param N: The remaining population.\n",
    "    \"\"\"\n",
    "    candidates = []\n",
    "    for i in N:\n",
    "        if i not in X:\n",
    "            candidates.append(i)\n",
    "    return candidates\n",
    "\n",
    "def greedy_capture(population, metric, k):\n",
    "    delta = 0 # ball radius\n",
    "    X = set() # panel\n",
    "\n",
    "    N = population.copy()\n",
    "\n",
    "    print(\"N: \", len(N))\n",
    "\n",
    "    n = len(N)\n",
    "\n",
    "    EM = population.copy()\n",
    "    \n",
    "    while len(N) > 0:\n",
    "        # Smoothly increase delta - implement this according to your specific problem\n",
    "        delta += 0.0001\n",
    "        \n",
    "        for x in X: # continued capture\n",
    "            B_x = B(x, delta, population, metric)\n",
    "            # if len(B_x) >= 1:\n",
    "            if len(set(B_x).intersection(set(N))) >= 1:\n",
    "                for y in B_x:\n",
    "                    #remove y from N\n",
    "                    if y in N:\n",
    "                        N.remove(y)\n",
    "                # print(\"N: \", len(N))\n",
    "\n",
    "        for i in M(X, N): # ball opening\n",
    "           B_i = B(i, delta, population, metric)\n",
    "           if len(set(B_i).intersection(set(N))) >= np.ceil(n/k):\n",
    "               print(\"Center Opened: \", i)\n",
    "               X.add(i)\n",
    "               for j in B_i:\n",
    "                   if j in N:\n",
    "                       N.remove(j)\n",
    "\n",
    "    return X"
   ]
  },
  {
   "cell_type": "code",
   "execution_count": 78,
   "metadata": {},
   "outputs": [
    {
     "name": "stdout",
     "output_type": "stream",
     "text": [
      "N:  100\n",
      "Center Opened:  (0.7246989345337049, 0.04779243138836353)\n",
      "Center Opened:  (0.2060008429711212, 0.068113861556239)\n",
      "Center Opened:  (0.6039975099473555, 0.5253976195680742)\n",
      "Center Opened:  (0.44670997346563257, 0.3187760625001679)\n",
      "Center Opened:  (0.06060528065955639, 0.5053298462455155)\n",
      "Center Opened:  (0.8034314472608152, 0.27721004526940984)\n",
      "Center Opened:  (0.9860289579336357, 0.20498438074986736)\n",
      "Center Opened:  (0.8479226169171713, 0.5540770328250824)\n",
      "Center Opened:  (0.35957719980017333, 0.8507338186280655)\n",
      "Center Opened:  (0.46554947966525884, 0.5019680126355902)\n",
      "Center Opened:  (0.653877284554929, 0.6971480065193314)\n",
      "Center Opened:  (0.2960518897796588, 0.5993803555345631)\n",
      "Center Opened:  (0.42337909096791737, 0.12320696474809456)\n",
      "Center Opened:  (0.893678753978549, 0.8276735900777352)\n",
      "Center Opened:  (0.10164226503562135, 0.9449694603032232)\n",
      "15\n",
      "{(0.2960518897796588, 0.5993803555345631), (0.6039975099473555, 0.5253976195680742), (0.2060008429711212, 0.068113861556239), (0.653877284554929, 0.6971480065193314), (0.46554947966525884, 0.5019680126355902), (0.893678753978549, 0.8276735900777352), (0.8034314472608152, 0.27721004526940984), (0.10164226503562135, 0.9449694603032232), (0.7246989345337049, 0.04779243138836353), (0.8479226169171713, 0.5540770328250824), (0.42337909096791737, 0.12320696474809456), (0.06060528065955639, 0.5053298462455155), (0.35957719980017333, 0.8507338186280655), (0.44670997346563257, 0.3187760625001679), (0.9860289579336357, 0.20498438074986736)}\n"
     ]
    }
   ],
   "source": [
    "# Example usage\n",
    "population = people\n",
    "k = 20\n",
    "selected_representatives = greedy_capture(population, euclidean_distance, k)\n",
    "\n",
    "print(len(selected_representatives))\n",
    "print(selected_representatives)"
   ]
  },
  {
   "cell_type": "code",
   "execution_count": 81,
   "metadata": {},
   "outputs": [
    {
     "data": {
      "image/png": "[encoded data removed]",
      "text/plain": [
       "<Figure size 640x480 with 1 Axes>"
      ]
     },
     "metadata": {},
     "output_type": "display_data"
    }
   ],
   "source": [
    "colors = plt.cm.tab20(np.linspace(0, 1, len(selected_representatives)))\n",
    "\n",
    "\n",
    "for i in population:\n",
    "    distances = []\n",
    "    for j in selected_representatives:\n",
    "        distances.append(euclidean_distance(i, j))\n",
    "    closest_representative = list(selected_representatives)[np.argmin(distances)]\n",
    "    plt.scatter(i[0], i[1], color=colors[list(selected_representatives).index(closest_representative)])\n",
    "\n",
    "# plot the selected representatives as stars of the same color and make it bigger\n",
    "for i in selected_representatives:\n",
    "    plt.scatter(i[0], i[1], color=colors[list(selected_representatives).index(i)], marker='*', s=200)\n",
    "\n",
    "plt.xlabel('Age')\n",
    "plt.ylabel('Income')\n",
    "plt.title('Selected Representatives')\n",
    "plt.show()"
   ]
  },
  {
   "cell_type": "code",
   "execution_count": null,
   "metadata": {},
   "outputs": [],
   "source": []
  },
  {
   "cell_type": "code",
   "execution_count": null,
   "metadata": {},
   "outputs": [],
   "source": []
  }
 ],
 "metadata": {
  "kernelspec": {
   "display_name": "rep_align",
   "language": "python",
   "name": "python3"
  },
  "language_info": {
   "codemirror_mode": {
    "name": "ipython",
    "version": 3
   },
   "file_extension": ".py",
   "mimetype": "text/x-python",
   "name": "python",
   "nbconvert_exporter": "python",
   "pygments_lexer": "ipython3",
   "version": "3.10.14"
  }
 },
 "nbformat": 4,
 "nbformat_minor": 2
}
