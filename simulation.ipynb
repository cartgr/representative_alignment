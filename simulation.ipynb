{
 "cells": [
  {
   "cell_type": "code",
   "execution_count": 2,
   "metadata": {},
   "outputs": [
    {
     "name": "stdout",
     "output_type": "stream",
     "text": [
      "Requirement already satisfied: black in /Users/carterblair/opt/anaconda3/envs/rep_align/lib/python3.10/site-packages (24.4.0)\n",
      "Requirement already satisfied: click>=8.0.0 in /Users/carterblair/opt/anaconda3/envs/rep_align/lib/python3.10/site-packages (from black) (8.1.7)\n",
      "Requirement already satisfied: mypy-extensions>=0.4.3 in /Users/carterblair/opt/anaconda3/envs/rep_align/lib/python3.10/site-packages (from black) (1.0.0)\n",
      "Requirement already satisfied: packaging>=22.0 in /Users/carterblair/opt/anaconda3/envs/rep_align/lib/python3.10/site-packages (from black) (24.0)\n",
      "Requirement already satisfied: pathspec>=0.9.0 in /Users/carterblair/opt/anaconda3/envs/rep_align/lib/python3.10/site-packages (from black) (0.12.1)\n",
      "Requirement already satisfied: platformdirs>=2 in /Users/carterblair/opt/anaconda3/envs/rep_align/lib/python3.10/site-packages (from black) (4.2.0)\n",
      "Requirement already satisfied: tomli>=1.1.0 in /Users/carterblair/opt/anaconda3/envs/rep_align/lib/python3.10/site-packages (from black) (2.0.1)\n",
      "Requirement already satisfied: typing-extensions>=4.0.1 in /Users/carterblair/opt/anaconda3/envs/rep_align/lib/python3.10/site-packages (from black) (4.11.0)\n"
     ]
    }
   ],
   "source": [
    "!pip install black"
   ]
  },
  {
   "cell_type": "code",
   "execution_count": null,
   "metadata": {},
   "outputs": [],
   "source": []
  }
 ],
 "metadata": {
  "kernelspec": {
   "display_name": "rep_align",
   "language": "python",
   "name": "python3"
  },
  "language_info": {
   "codemirror_mode": {
    "name": "ipython",
    "version": 3
   },
   "file_extension": ".py",
   "mimetype": "text/x-python",
   "name": "python",
   "nbconvert_exporter": "python",
   "pygments_lexer": "ipython3",
   "version": "3.10.14"
  }
 },
 "nbformat": 4,
 "nbformat_minor": 2
}
